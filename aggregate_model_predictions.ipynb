{
 "cells": [
  {
   "cell_type": "code",
   "execution_count": null,
   "id": "de54db48",
   "metadata": {},
   "outputs": [],
   "source": [
    "import os\n",
    "import pandas as pd\n",
    "import numpy as np"
   ]
  },
  {
   "cell_type": "code",
   "execution_count": null,
   "id": "f7130211",
   "metadata": {},
   "outputs": [],
   "source": [
    "SENTIMENT140_DATA_DIR = 'Sentiment140.data' # sentiment 140 data set saved here\n",
    "DG_DATA_DIR = 'D_G data' # D&G data set saved here\n",
    "OUTPUT_DIR = 'output' # intermediate output and models saved here\n",
    "FIGURES_DIR = 'figures' # figures saved here"
   ]
  },
  {
   "cell_type": "markdown",
   "id": "04c96f43",
   "metadata": {},
   "source": [
    "# Read in D&G data"
   ]
  },
  {
   "cell_type": "code",
   "execution_count": null,
   "id": "db14d9e3",
   "metadata": {},
   "outputs": [],
   "source": [
    "df_chopsticks = pd.read_csv(os.path.join(DG_DATA_DIR, \"dolcegabbana_chopsticks_mentions_daily_expanded.csv\"))\n",
    "df_all = pd.read_csv(os.path.join(DG_DATA_DIR, \"dolcegabbana_mentions_daily_all.csv\"), lineterminator='\\n')"
   ]
  },
  {
   "cell_type": "markdown",
   "id": "f1c956a1",
   "metadata": {},
   "source": [
    "# Add model predictions to the data for each model"
   ]
  },
  {
   "cell_type": "code",
   "execution_count": null,
   "id": "33353f5f",
   "metadata": {},
   "outputs": [],
   "source": [
    "# svc\n",
    "y_chopsticks_pred_svc = np.load(os.path.join(OUTPUT_DIR, 'svc_y_chopsticks_pred.npy'), allow_pickle=True)\n",
    "y_chopsticks_proba_svc = np.load(os.path.join(OUTPUT_DIR, 'svc_y_chopsticks_proba.npy'), allow_pickle=True)\n",
    "\n",
    "y_all_pred_svc = np.load(os.path.join(OUTPUT_DIR, 'svc_y_all_pred.npy'), allow_pickle=True)\n",
    "y_all_proba_svc = np.load(os.path.join(OUTPUT_DIR, 'svc_y_all_proba.npy'), allow_pickle=True)\n",
    "\n",
    "# rfc\n",
    "y_chopsticks_pred_rfc = np.load(os.path.join(OUTPUT_DIR, 'rfc_y_chopsticks_pred.npy'), allow_pickle=True)\n",
    "y_chopsticks_proba_rfc = np.load(os.path.join(OUTPUT_DIR, 'rfc_y_chopsticks_proba.npy'), allow_pickle=True)\n",
    "\n",
    "y_all_pred_rfc = np.load(os.path.join(OUTPUT_DIR, 'rfc_y_all_pred.npy'), allow_pickle=True)\n",
    "y_all_proba_rfc = np.load(os.path.join(OUTPUT_DIR, 'rfc_y_all_proba.npy'), allow_pickle=True)\n",
    "\n",
    "# lr\n",
    "y_chopsticks_pred_lr = np.load(os.path.join(OUTPUT_DIR, 'lr_y_chopsticks_pred.npy'), allow_pickle=True)\n",
    "y_chopsticks_proba_lr = np.load(os.path.join(OUTPUT_DIR, 'lr_y_chopsticks_proba.npy'), allow_pickle=True)\n",
    "\n",
    "y_all_pred_lr = np.load(os.path.join(OUTPUT_DIR, 'lr_y_all_pred.npy'), allow_pickle=True)\n",
    "y_all_proba_lr = np.load(os.path.join(OUTPUT_DIR, 'lr_y_all_proba.npy'), allow_pickle=True)\n",
    "\n",
    "# nb\n",
    "y_chopsticks_pred_nb = np.load(os.path.join(OUTPUT_DIR, 'nb_y_chopsticks_pred.npy'), allow_pickle=True)\n",
    "y_chopsticks_proba_nb = np.load(os.path.join(OUTPUT_DIR, 'nb_y_chopsticks_proba.npy'), allow_pickle=True)\n",
    "\n",
    "y_all_pred_nb = np.load(os.path.join(OUTPUT_DIR, 'nb_y_all_pred.npy'), allow_pickle=True)\n",
    "y_all_proba_nb = np.load(os.path.join(OUTPUT_DIR, 'nb_y_all_proba.npy'), allow_pickle=True)"
   ]
  },
  {
   "cell_type": "code",
   "execution_count": null,
   "id": "4102c031",
   "metadata": {},
   "outputs": [],
   "source": [
    "df_chopsticks['svc_pred'] = y_chopsticks_pred_svc\n",
    "df_chopsticks['rfc_pred'] = y_chopsticks_pred_rfc\n",
    "df_chopsticks['lr_pred'] = y_chopsticks_pred_lr\n",
    "df_chopsticks['nb_pred'] = y_chopsticks_pred_nb\n",
    "\n",
    "df_all['svc_pred'] = y_all_pred_svc\n",
    "df_all['rfc_pred'] = y_all_pred_rfc\n",
    "df_all['lr_pred'] = y_all_pred_lr\n",
    "df_all['nb_pred'] = y_all_pred_nb"
   ]
  },
  {
   "cell_type": "markdown",
   "id": "35f5ec99",
   "metadata": {},
   "source": [
    "# Final prediction is rounded mean of individual models\n",
    "There are other ways of choosing the final prediction"
   ]
  },
  {
   "cell_type": "code",
   "execution_count": null,
   "id": "288d5854",
   "metadata": {},
   "outputs": [],
   "source": [
    "df_chopsticks['pred'] = np.round((df_chopsticks['svc_pred'] + df_chopsticks['rfc_pred'] + df_chopsticks['lr_pred'] + df_chopsticks['nb_pred'])/ 4)\n",
    "df_chopsticks['pred'] = df_chopsticks['pred'].astype(int)\n",
    "\n",
    "df_all['pred'] = np.round((df_all['svc_pred'] + df_all['rfc_pred'] + df_all['lr_pred'] + df_all['nb_pred'])/ 4)\n",
    "df_all['pred'] = df_all['pred'].astype(int)"
   ]
  },
  {
   "cell_type": "markdown",
   "id": "90fad492",
   "metadata": {},
   "source": [
    "# Save the dataframe with the predictions"
   ]
  },
  {
   "cell_type": "code",
   "execution_count": null,
   "id": "089b5268",
   "metadata": {},
   "outputs": [],
   "source": [
    "df_chopsticks.to_csv(os.path.join(DG_DATA_DIR, 'dolcegabbana_chopsticks_mentions_daily_expanded_with_predictions.csv'), index=False)\n",
    "df_all.to_csv(os.path.join(DG_DATA_DIR, 'dolcegabbana_mentions_daily_all_with_predictions.csv'), index=False)"
   ]
  },
  {
   "cell_type": "code",
   "execution_count": null,
   "id": "c76f9167",
   "metadata": {},
   "outputs": [],
   "source": []
  }
 ],
 "metadata": {
  "kernelspec": {
   "display_name": "Python 3 (ipykernel)",
   "language": "python",
   "name": "python3"
  },
  "language_info": {
   "codemirror_mode": {
    "name": "ipython",
    "version": 3
   },
   "file_extension": ".py",
   "mimetype": "text/x-python",
   "name": "python",
   "nbconvert_exporter": "python",
   "pygments_lexer": "ipython3",
   "version": "3.9.6"
  }
 },
 "nbformat": 4,
 "nbformat_minor": 5
}

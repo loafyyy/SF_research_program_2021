{
 "cells": [
  {
   "cell_type": "code",
   "execution_count": null,
   "metadata": {
    "id": "LJMyKkCSctCq"
   },
   "outputs": [],
   "source": [
    "### importing the libraries\n",
    "\n",
    "import pandas as pd\n",
    "import numpy as np\n",
    "import os\n",
    "\n",
    "import matplotlib.dates as mdates\n",
    "import matplotlib.pyplot as plt\n",
    "from matplotlib.dates import DateFormatter\n",
    "import datetime"
   ]
  },
  {
   "cell_type": "code",
   "execution_count": null,
   "metadata": {},
   "outputs": [],
   "source": [
    "SENTIMENT140_DATA_DIR = 'Sentiment140.data' # sentiment 140 data set saved here\n",
    "DG_DATA_DIR = 'D_G data' # D&G data set saved here\n",
    "OUTPUT_DIR = 'output' # intermediate output and models saved here\n",
    "FIGURES_DIR = 'figures' # figures saved here"
   ]
  },
  {
   "cell_type": "markdown",
   "metadata": {},
   "source": [
    "# Read in data with predictions"
   ]
  },
  {
   "cell_type": "code",
   "execution_count": null,
   "metadata": {
    "colab": {
     "base_uri": "https://localhost:8080/",
     "height": 205
    },
    "executionInfo": {
     "elapsed": 44,
     "status": "ok",
     "timestamp": 1628609931513,
     "user": {
      "displayName": "Jackie Peng",
      "photoUrl": "",
      "userId": "16149687417498493859"
     },
     "user_tz": 240
    },
    "id": "p2dLcFL5rz3p",
    "outputId": "23b4349d-197e-4f18-c7f2-84d65bc0b58e"
   },
   "outputs": [],
   "source": [
    "df_chopsticks = pd.read_csv(os.path.join(DG_DATA_DIR, \"dolcegabbana_chopsticks_mentions_daily_expanded_with_predictions.csv\"))\n",
    "df_all = pd.read_csv(os.path.join(DG_DATA_DIR, \"dolcegabbana_mentions_daily_all_with_predictions.csv\"), lineterminator='\\n')"
   ]
  },
  {
   "cell_type": "code",
   "execution_count": null,
   "metadata": {
    "colab": {
     "base_uri": "https://localhost:8080/",
     "height": 292
    },
    "executionInfo": {
     "elapsed": 10703,
     "status": "ok",
     "timestamp": 1628609942177,
     "user": {
      "displayName": "Jackie Peng",
      "photoUrl": "",
      "userId": "16149687417498493859"
     },
     "user_tz": 240
    },
    "id": "uAkeYqm1divR",
    "outputId": "dad8077c-56a4-445b-9b07-ef7e8dae7599"
   },
   "outputs": [],
   "source": [
    "# Changing object type column to datetime\n",
    "df_chopsticks['interval_start_date'] = pd.to_datetime(df_chopsticks['interval_start_date'])\n",
    "df_chopsticks['created_at'] = pd.to_datetime(df_chopsticks['created_at'])\n",
    "df_chopsticks['date'] = df_chopsticks['created_at'].dt.date # Creating new column with just the date\n",
    "df_chopsticks['date'] = pd.to_datetime(df_chopsticks['date'])\n",
    "\n",
    "# get week start date to aggregate over weeks\n",
    "df_chopsticks['week_start_date'] = df_chopsticks['date'].apply(lambda x: x - datetime.timedelta(days=x.weekday()))\n",
    "df_chopsticks['week_start_date'] = df_chopsticks['week_start_date'].dt.date\n",
    "df_chopsticks.head()"
   ]
  },
  {
   "cell_type": "code",
   "execution_count": null,
   "metadata": {},
   "outputs": [],
   "source": [
    "# Changing object type column to datetime\n",
    "df_all['interval_start_date'] = pd.to_datetime(df_all['interval_start_date'])\n",
    "df_all['created_at'] = pd.to_datetime(df_all['created_at'])\n",
    "df_all['date'] = df_all['created_at'].dt.date # Creating new column with just the date\n",
    "df_all['date'] = pd.to_datetime(df_all['date'])\n",
    "\n",
    "# get week start date to aggregate over weeks\n",
    "df_all['week_start_date'] = df_all['date'].apply(lambda x: x - datetime.timedelta(days=x.weekday()))\n",
    "df_all['week_start_date'] = df_all['week_start_date'].dt.date\n",
    "df_all.head()"
   ]
  },
  {
   "cell_type": "code",
   "execution_count": null,
   "metadata": {
    "id": "FJfk1OebcvmR"
   },
   "outputs": [],
   "source": [
    "# split into positive and negative dataframes using ensemble of classifiers (svc, rfc, lr, nb)\n",
    "df_all_pos = df_all[df_all['pred'] == 1]\n",
    "df_all_neg = df_all[df_all['pred'] == -1]\n",
    "\n",
    "df_chopsticks_pos = df_chopsticks[df_chopsticks['pred'] == 1]\n",
    "df_chopsticks_neg = df_chopsticks[df_chopsticks['pred'] == -1]"
   ]
  },
  {
   "cell_type": "code",
   "execution_count": null,
   "metadata": {
    "id": "gVnLRzwrd45_"
   },
   "outputs": [],
   "source": [
    "# aggregate data and get aggregated statistics\n",
    "pos_byweek_all = df_all_pos.groupby(by=['week_start_date']).agg({'retweet_count': ['sum', 'count']}).reset_index() # for positive tweets, get total retweets each week (sum of num retweets column over each week)\n",
    "pos_byweek_all.columns = ['date', 'total_retweets', 'total_tweets']\n",
    "\n",
    "neg_byweek_all = df_all_neg.groupby(by=['week_start_date']).agg({'retweet_count': ['sum', 'count']}).reset_index() # for negative tweets, get total retweets each week (sum of num retweets column over each week)\n",
    "neg_byweek_all.columns = ['date', 'total_retweets', 'total_tweets']\n",
    "\n",
    "# aggregate data and get aggregated statistics\n",
    "pos_byweek_chopsticks = df_chopsticks_pos.groupby(by=['week_start_date']).agg({'retweet_count': ['sum', 'count']}).reset_index() # for positive tweets, get total retweets each week (sum of num retweets column over each week)\n",
    "pos_byweek_chopsticks.columns = ['date', 'total_retweets', 'total_tweets']\n",
    "\n",
    "neg_byweek_chopsticks = df_chopsticks_neg.groupby(by=['week_start_date']).agg({'retweet_count': ['sum', 'count']}).reset_index() # for negative tweets, get total retweets each week (sum of num retweets column over each week)\n",
    "neg_byweek_chopsticks.columns = ['date', 'total_retweets', 'total_tweets']"
   ]
  },
  {
   "cell_type": "markdown",
   "metadata": {},
   "source": [
    "# Plot total retweets over time (positive vs negative)"
   ]
  },
  {
   "cell_type": "code",
   "execution_count": null,
   "metadata": {
    "colab": {
     "base_uri": "https://localhost:8080/",
     "height": 364
    },
    "executionInfo": {
     "elapsed": 716,
     "status": "ok",
     "timestamp": 1628609945717,
     "user": {
      "displayName": "Jackie Peng",
      "photoUrl": "",
      "userId": "16149687417498493859"
     },
     "user_tz": 240
    },
    "id": "Oa_MQ3Tbd9vJ",
    "outputId": "2af5328f-d190-4f93-8ad5-0848f0decfb8"
   },
   "outputs": [],
   "source": [
    "# plot number of retweets over time (aggregated over each week) for positive and negative tweets\n",
    "fig, ax = plt.subplots(figsize=(30, 8))\n",
    "ax.plot(pos_byweek_all[\"date\"], pos_byweek_all['total_retweets'], c='blue', label='Positive tweets')\n",
    "ax.plot(neg_byweek_all[\"date\"], neg_byweek_all['total_retweets'], c='red', label='Negative tweets')\n",
    "\n",
    "# Major ticks every 6 months.\n",
    "fmt_half_year = mdates.MonthLocator(interval=6)\n",
    "ax.xaxis.set_major_locator(fmt_half_year)\n",
    "\n",
    "# Minor ticks every month.\n",
    "fmt_month = mdates.MonthLocator()\n",
    "ax.xaxis.set_minor_locator(fmt_month)\n",
    "\n",
    "# Text in the x axis will be displayed in 'YYYY-mm' format.\n",
    "ax.xaxis.set_major_formatter(mdates.DateFormatter('%Y-%m'))\n",
    "\n",
    "# Round to nearest half of year.\n",
    "datemin = np.datetime64(datetime.date(2009, 7, 1), 'm')\n",
    "datemax = np.datetime64(datetime.date(2022, 1, 1), 'm')\n",
    "ax.set_xlim(datemin, datemax)\n",
    "\n",
    "# Format the coords message box, i.e. the numbers displayed as the cursor moves\n",
    "# across the axes within the interactive GUI.\n",
    "ax.format_xdata = mdates.DateFormatter('%Y-%m')\n",
    "ax.format_ydata = lambda x: f'${x:.2f}'  # Format the price.\n",
    "ax.grid(True)\n",
    "\n",
    "# Label the axes\n",
    "ax.set(xlabel='Date', ylabel='Weekly total retweet count')\n",
    "#ax.set_ylim([0, 10000]) # scale the y-axis range\n",
    "\n",
    "# Rotates and right aligns the x labels, and moves the bottom of the\n",
    "# axes up to make room for them.\n",
    "fig.autofmt_xdate()\n",
    "plt.legend() # add the legend\n",
    "\n",
    "plt.savefig(os.path.join(FIGURES_DIR, 'D&G_all_total_retweets_over_time_pos_vs_neg.jpg'), dpi=300)\n",
    "\n",
    "plt.show()"
   ]
  },
  {
   "cell_type": "code",
   "execution_count": null,
   "metadata": {
    "id": "lujvCUpMLf66"
   },
   "outputs": [],
   "source": [
    "# plot number of retweets over time (aggregated over each week) for positive and negative tweets\n",
    "fig, ax = plt.subplots(figsize=(30, 8))\n",
    "ax.plot(pos_byweek_chopsticks[\"date\"], pos_byweek_chopsticks['total_retweets'], c='blue', label='Positive tweets')\n",
    "ax.plot(neg_byweek_chopsticks[\"date\"], neg_byweek_chopsticks['total_retweets'], c='red', label='Negative tweets')\n",
    "\n",
    "# Major ticks every 6 months.\n",
    "fmt_half_year = mdates.MonthLocator(interval=6)\n",
    "ax.xaxis.set_major_locator(fmt_half_year)\n",
    "\n",
    "# Minor ticks every month.\n",
    "fmt_month = mdates.MonthLocator()\n",
    "ax.xaxis.set_minor_locator(fmt_month)\n",
    "\n",
    "# Text in the x axis will be displayed in 'YYYY-mm' format.\n",
    "ax.xaxis.set_major_formatter(mdates.DateFormatter('%Y-%m'))\n",
    "\n",
    "# Round to nearest half of year.\n",
    "datemin = np.datetime64(datetime.date(2018, 7, 1), 'm')\n",
    "datemax = np.datetime64(datetime.date(2022, 1, 1), 'm')\n",
    "ax.set_xlim(datemin, datemax)\n",
    "\n",
    "# Format the coords message box, i.e. the numbers displayed as the cursor moves\n",
    "# across the axes within the interactive GUI.\n",
    "ax.format_xdata = mdates.DateFormatter('%Y-%m')\n",
    "ax.format_ydata = lambda x: f'${x:.2f}'  # Format the price.\n",
    "ax.grid(True)\n",
    "\n",
    "# Label the axes\n",
    "ax.set(xlabel='Date', ylabel='Weekly total retweet count')\n",
    "#ax.set_ylim([0, 10000]) # scale the y-axis range\n",
    "\n",
    "# Rotates and right aligns the x labels, and moves the bottom of the\n",
    "# axes up to make room for them.\n",
    "fig.autofmt_xdate()\n",
    "plt.legend() # add the legend\n",
    "\n",
    "plt.savefig(os.path.join(FIGURES_DIR, 'D&G_chopsticks_total_retweets_over_time_pos_vs_neg.jpg'), dpi=300)\n",
    "\n",
    "plt.show()"
   ]
  },
  {
   "cell_type": "markdown",
   "metadata": {},
   "source": [
    "# Plot total tweets over time (positive vs negative)"
   ]
  },
  {
   "cell_type": "code",
   "execution_count": null,
   "metadata": {},
   "outputs": [],
   "source": [
    "# plot number of retweets over time (aggregated over each week) for positive and negative tweets\n",
    "fig, ax = plt.subplots(figsize=(30, 8))\n",
    "ax.plot(pos_byweek_all[\"date\"], pos_byweek_all['total_tweets'], c='blue', label='Positive tweets')\n",
    "ax.plot(neg_byweek_all[\"date\"], neg_byweek_all['total_tweets'], c='red', label='Negative tweets')\n",
    "\n",
    "# Major ticks every 6 months.\n",
    "fmt_half_year = mdates.MonthLocator(interval=6)\n",
    "ax.xaxis.set_major_locator(fmt_half_year)\n",
    "\n",
    "# Minor ticks every month.\n",
    "fmt_month = mdates.MonthLocator()\n",
    "ax.xaxis.set_minor_locator(fmt_month)\n",
    "\n",
    "# Text in the x axis will be displayed in 'YYYY-mm' format.\n",
    "ax.xaxis.set_major_formatter(mdates.DateFormatter('%Y-%m'))\n",
    "\n",
    "# Round to nearest half of year.\n",
    "datemin = np.datetime64(datetime.date(2009, 7, 1), 'm')\n",
    "datemax = np.datetime64(datetime.date(2022, 1, 1), 'm')\n",
    "ax.set_xlim(datemin, datemax)\n",
    "\n",
    "# Format the coords message box, i.e. the numbers displayed as the cursor moves\n",
    "# across the axes within the interactive GUI.\n",
    "ax.format_xdata = mdates.DateFormatter('%Y-%m')\n",
    "ax.format_ydata = lambda x: f'${x:.2f}'  # Format the price.\n",
    "ax.grid(True)\n",
    "\n",
    "# Label the axes\n",
    "ax.set(xlabel='Date', ylabel='Weekly total tweet count')\n",
    "#ax.set_ylim([0, 10000]) # scale the y-axis range\n",
    "\n",
    "# Rotates and right aligns the x labels, and moves the bottom of the\n",
    "# axes up to make room for them.\n",
    "fig.autofmt_xdate()\n",
    "plt.legend() # add the legend\n",
    "\n",
    "plt.savefig(os.path.join(FIGURES_DIR, 'D&G_all_total_tweets_over_time_pos_vs_neg.jpg'), dpi=300)\n",
    "\n",
    "plt.show()"
   ]
  },
  {
   "cell_type": "code",
   "execution_count": null,
   "metadata": {},
   "outputs": [],
   "source": [
    "# plot number of retweets over time (aggregated over each week) for positive and negative tweets\n",
    "fig, ax = plt.subplots(figsize=(30, 8))\n",
    "ax.plot(pos_byweek_chopsticks[\"date\"], pos_byweek_chopsticks['total_tweets'], c='blue', label='Positive tweets')\n",
    "ax.plot(neg_byweek_chopsticks[\"date\"], neg_byweek_chopsticks['total_tweets'], c='red', label='Negative tweets')\n",
    "\n",
    "# Major ticks every 6 months.\n",
    "fmt_half_year = mdates.MonthLocator(interval=6)\n",
    "ax.xaxis.set_major_locator(fmt_half_year)\n",
    "\n",
    "# Minor ticks every month.\n",
    "fmt_month = mdates.MonthLocator()\n",
    "ax.xaxis.set_minor_locator(fmt_month)\n",
    "\n",
    "# Text in the x axis will be displayed in 'YYYY-mm' format.\n",
    "ax.xaxis.set_major_formatter(mdates.DateFormatter('%Y-%m'))\n",
    "\n",
    "# Round to nearest half of year.\n",
    "datemin = np.datetime64(datetime.date(2018, 7, 1), 'm')\n",
    "datemax = np.datetime64(datetime.date(2022, 1, 1), 'm')\n",
    "ax.set_xlim(datemin, datemax)\n",
    "\n",
    "# Format the coords message box, i.e. the numbers displayed as the cursor moves\n",
    "# across the axes within the interactive GUI.\n",
    "ax.format_xdata = mdates.DateFormatter('%Y-%m')\n",
    "ax.format_ydata = lambda x: f'${x:.2f}'  # Format the price.\n",
    "ax.grid(True)\n",
    "\n",
    "# Label the axes\n",
    "ax.set(xlabel='Date', ylabel='Weekly total tweet count')\n",
    "#ax.set_ylim([0, 10000]) # scale the y-axis range\n",
    "\n",
    "# Rotates and right aligns the x labels, and moves the bottom of the\n",
    "# axes up to make room for them.\n",
    "fig.autofmt_xdate()\n",
    "plt.legend() # add the legend\n",
    "\n",
    "plt.savefig(os.path.join(FIGURES_DIR, 'D&G_chopsticks_total_tweets_over_time_pos_vs_neg.jpg'), dpi=300)\n",
    "\n",
    "plt.show()"
   ]
  },
  {
   "cell_type": "code",
   "execution_count": null,
   "metadata": {},
   "outputs": [],
   "source": []
  }
 ],
 "metadata": {
  "accelerator": "GPU",
  "colab": {
   "collapsed_sections": [],
   "name": "BLM_time_series_example.ipynb",
   "provenance": [
    {
     "file_id": "1aUQln3rWXGkuHc_iB7bsTCqtM-2CvtVV",
     "timestamp": 1618116480714
    }
   ]
  },
  "kernelspec": {
   "display_name": "Python 3 (ipykernel)",
   "language": "python",
   "name": "python3"
  },
  "language_info": {
   "codemirror_mode": {
    "name": "ipython",
    "version": 3
   },
   "file_extension": ".py",
   "mimetype": "text/x-python",
   "name": "python",
   "nbconvert_exporter": "python",
   "pygments_lexer": "ipython3",
   "version": "3.9.6"
  }
 },
 "nbformat": 4,
 "nbformat_minor": 1
}
